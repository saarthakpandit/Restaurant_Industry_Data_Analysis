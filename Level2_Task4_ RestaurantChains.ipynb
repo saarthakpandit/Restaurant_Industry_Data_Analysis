{
 "cells": [
  {
   "cell_type": "code",
   "execution_count": 2,
   "id": "80be78d3-57aa-4111-84d6-184e9f19625d",
   "metadata": {},
   "outputs": [
    {
     "name": "stdout",
     "output_type": "stream",
     "text": [
      "Restaurant Chains Analysis:\n",
      "                      Average_Rating  Total_Votes\n",
      "Restaurant Name                                  \n",
      "10 Downing Street               4.00          670\n",
      "221 B Baker Street              3.37          215\n",
      "34 Parkstreet Lane              3.05           31\n",
      "34, Chowringhee Lane            2.79          777\n",
      "4700BC Popcorn                  3.50          176\n",
      "...                              ...          ...\n",
      "Zaika                           2.85          245\n",
      "Zaika Kathi Rolls               1.50           16\n",
      "Zizo                            3.87         1371\n",
      "Zooby's Kitchen                 3.15           52\n",
      "bu??no                          3.75          117\n",
      "\n",
      "[734 rows x 2 columns]\n"
     ]
    }
   ],
   "source": [
    "import pandas as pd\n",
    "import numpy as np\n",
    "import os\n",
    "\n",
    "os.chdir(\"C:\\\\Users\\\\Sarthak\\\\.jupyter\")\n",
    "data = pd.read_csv(\"File.csv\")\n",
    "\n",
    "# Restaurant chains\n",
    "chain_counts = data['Restaurant Name'].value_counts()\n",
    "restaurant_chains = chain_counts[chain_counts > 1].index.tolist()\n",
    "\n",
    "# Group data by chains\n",
    "chain_data = data[data['Restaurant Name'].isin(restaurant_chains)].groupby('Restaurant Name')\n",
    "\n",
    "# Analyzing ratings and popularity of different restaurant chains\n",
    "chain_ratings = chain_data['Aggregate rating'].mean().round(2)\n",
    "chain_popularity = chain_data['Votes'].sum()\n",
    "\n",
    "# Display results\n",
    "chain_analysis = pd.DataFrame({'Average_Rating': chain_ratings, 'Total_Votes': chain_popularity})\n",
    "print(\"Restaurant Chains Analysis:\")\n",
    "print(chain_analysis)\n"
   ]
  },
  {
   "cell_type": "code",
   "execution_count": null,
   "id": "eae1fa38-a69a-49e7-9040-ad2fdf0735d4",
   "metadata": {},
   "outputs": [],
   "source": []
  }
 ],
 "metadata": {
  "kernelspec": {
   "display_name": "Python 3 (ipykernel)",
   "language": "python",
   "name": "python3"
  },
  "language_info": {
   "codemirror_mode": {
    "name": "ipython",
    "version": 3
   },
   "file_extension": ".py",
   "mimetype": "text/x-python",
   "name": "python",
   "nbconvert_exporter": "python",
   "pygments_lexer": "ipython3",
   "version": "3.11.7"
  }
 },
 "nbformat": 4,
 "nbformat_minor": 5
}
