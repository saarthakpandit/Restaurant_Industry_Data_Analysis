{
 "cells": [
  {
   "cell_type": "code",
   "execution_count": 1,
   "id": "ed50eb78-6fba-4921-a02c-c44b951c574d",
   "metadata": {},
   "outputs": [
    {
     "name": "stdout",
     "output_type": "stream",
     "text": [
      "Distribution of Aggregate Ratings:\n",
      "Aggregate rating\n",
      "(-0.001, 1.0]    2148\n",
      "(1.0, 2.0]         10\n",
      "(2.0, 3.0]       1891\n",
      "(3.0, 4.0]       4388\n",
      "(4.0, 5.0]       1114\n",
      "Name: count, dtype: int64\n",
      "\n",
      "Most Common Rating Range: (3.0, 4.0]\n",
      "\n",
      "Average Number of Votes Received by Restaurants: 156.91\n"
     ]
    }
   ],
   "source": [
    "import pandas as pd\n",
    "import numpy as np\n",
    "import os\n",
    "\n",
    "os.chdir(\"C:\\\\Users\\\\Sarthak\\\\.jupyter\")\n",
    "data = pd.read_csv(\"File.csv\")\n",
    "\n",
    "# Distribution of aggregate ratings\n",
    "rating_ranges = pd.cut(data['Aggregate rating'], bins=[0, 1, 2, 3, 4, 5], include_lowest=True)\n",
    "rating_distribution = rating_ranges.value_counts().sort_index()\n",
    "\n",
    "# Most common rating range\n",
    "most_common_range = rating_distribution.idxmax()\n",
    "\n",
    "# Average number of votes received by restaurants\n",
    "average_votes = round(data['Votes'].mean(), 2)\n",
    "\n",
    "print(\"Distribution of Aggregate Ratings:\")\n",
    "print(rating_distribution)\n",
    "print(\"\\nMost Common Rating Range:\", most_common_range)\n",
    "print(\"\\nAverage Number of Votes Received by Restaurants:\", average_votes)\n"
   ]
  },
  {
   "cell_type": "code",
   "execution_count": null,
   "id": "98b94262-860e-4af4-9abb-b07af2b118fe",
   "metadata": {},
   "outputs": [],
   "source": []
  }
 ],
 "metadata": {
  "kernelspec": {
   "display_name": "Python 3 (ipykernel)",
   "language": "python",
   "name": "python3"
  },
  "language_info": {
   "codemirror_mode": {
    "name": "ipython",
    "version": 3
   },
   "file_extension": ".py",
   "mimetype": "text/x-python",
   "name": "python",
   "nbconvert_exporter": "python",
   "pygments_lexer": "ipython3",
   "version": "3.11.7"
  }
 },
 "nbformat": 4,
 "nbformat_minor": 5
}
