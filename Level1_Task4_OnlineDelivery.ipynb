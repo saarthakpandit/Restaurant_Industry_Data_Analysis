{
 "cells": [
  {
   "cell_type": "code",
   "execution_count": 1,
   "id": "96301535-631d-40e7-bebd-a00affef5078",
   "metadata": {},
   "outputs": [
    {
     "name": "stdout",
     "output_type": "stream",
     "text": [
      "['No' 'Yes']\n",
      "Percentage of restaurants that offer online delivery: 25.66\n",
      "Average rating of restaurants with online delivery: 3.25\n",
      "Average rating of restaurants without online delivery: 2.47\n"
     ]
    }
   ],
   "source": [
    "import pandas as pd\n",
    "import numpy as np\n",
    "import os\n",
    "\n",
    "os.chdir(\"C:\\\\Users\\\\Sarthak\\\\.jupyter\")\n",
    "restaurants_df = pd.read_csv(\"File.csv\")\n",
    "\n",
    "# Unique values in the 'Has Online delivery' column\n",
    "print(restaurants_df['Has Online delivery'].unique())\n",
    "\n",
    "# Converting string values to boolean\n",
    "restaurants_df['Has Online delivery'] = restaurants_df['Has Online delivery'].replace({'Yes': True, 'No': False})\n",
    "\n",
    "# Percentage of restaurants that offer online delivery\n",
    "restaurants_with_delivery = restaurants_df['Has Online delivery'].sum()\n",
    "total_restaurants = len(restaurants_df)\n",
    "percentage_with_delivery = round((restaurants_with_delivery / total_restaurants) * 100, 2)\n",
    "print(\"Percentage of restaurants that offer online delivery:\", percentage_with_delivery)\n",
    "\n",
    "# Average ratings of restaurants with and without online delivery\n",
    "average_rating_with_delivery = round(restaurants_df[restaurants_df['Has Online delivery']]['Aggregate rating'].mean(), 2)\n",
    "average_rating_without_delivery = round(restaurants_df[~restaurants_df['Has Online delivery']]['Aggregate rating'].mean(), 2)\n",
    "\n",
    "print(\"Average rating of restaurants with online delivery:\", average_rating_with_delivery)\n",
    "print(\"Average rating of restaurants without online delivery:\", average_rating_without_delivery)\n"
   ]
  },
  {
   "cell_type": "code",
   "execution_count": null,
   "id": "a18af854-d154-44e9-a328-9d57f3ee63b2",
   "metadata": {},
   "outputs": [],
   "source": []
  }
 ],
 "metadata": {
  "kernelspec": {
   "display_name": "Python 3 (ipykernel)",
   "language": "python",
   "name": "python3"
  },
  "language_info": {
   "codemirror_mode": {
    "name": "ipython",
    "version": 3
   },
   "file_extension": ".py",
   "mimetype": "text/x-python",
   "name": "python",
   "nbconvert_exporter": "python",
   "pygments_lexer": "ipython3",
   "version": "3.11.7"
  }
 },
 "nbformat": 4,
 "nbformat_minor": 5
}
