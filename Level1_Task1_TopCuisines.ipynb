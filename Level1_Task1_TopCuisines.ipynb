{
 "cells": [
  {
   "cell_type": "code",
   "execution_count": 4,
   "id": "4193812b-5964-4e7b-9ad7-4db5e91cc795",
   "metadata": {},
   "outputs": [
    {
     "name": "stdout",
     "output_type": "stream",
     "text": [
      "Top three most common cuisines:\n",
      "Cuisines\n",
      "North Indian             936\n",
      "North Indian, Chinese    511\n",
      "Chinese                  354\n",
      "Name: count, dtype: int64\n",
      "\n",
      "Percentage of restaurants serving each of the top cuisines:\n",
      "Cuisines\n",
      "North Indian             9.800021\n",
      "North Indian, Chinese    5.350225\n",
      "Chinese                  3.706418\n",
      "Name: count, dtype: float64\n"
     ]
    }
   ],
   "source": [
    "import pandas as pd\n",
    "import numpy as np\n",
    "import os\n",
    "\n",
    "os.chdir(\"C:\\\\Users\\\\Sarthak\\\\.jupyter\")\n",
    "df = pd.read_csv(\"File.csv\")\n",
    "\n",
    "top_cuisines = df['Cuisines'].value_counts().head(3)\n",
    "\n",
    "# Calculating the percentage of restaurants that serve each of the top cuisines\n",
    "total_restaurants = len(df)\n",
    "percentage_per_cuisine = (top_cuisines / total_restaurants) * 100\n",
    "\n",
    "# Top three most common cuisines\n",
    "print(\"Top three most common cuisines:\")\n",
    "print(top_cuisines)\n",
    "\n",
    "# Printing the percentage of restaurants that serve each of the top cuisines\n",
    "print(\"\\nPercentage of restaurants serving each of the top cuisines:\")\n",
    "print(percentage_per_cuisine)"
   ]
  },
  {
   "cell_type": "code",
   "execution_count": null,
   "id": "a9580aa5-4837-4d9f-a75c-7fa51c745896",
   "metadata": {},
   "outputs": [],
   "source": []
  }
 ],
 "metadata": {
  "kernelspec": {
   "display_name": "Python 3 (ipykernel)",
   "language": "python",
   "name": "python3"
  },
  "language_info": {
   "codemirror_mode": {
    "name": "ipython",
    "version": 3
   },
   "file_extension": ".py",
   "mimetype": "text/x-python",
   "name": "python",
   "nbconvert_exporter": "python",
   "pygments_lexer": "ipython3",
   "version": "3.11.7"
  }
 },
 "nbformat": 4,
 "nbformat_minor": 5
}
