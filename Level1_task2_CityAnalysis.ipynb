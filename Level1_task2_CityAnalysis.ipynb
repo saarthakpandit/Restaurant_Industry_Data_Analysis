{
 "cells": [
  {
   "cell_type": "code",
   "execution_count": 1,
   "id": "8dc6ff88-d866-4aa8-a1b2-450760face6a",
   "metadata": {},
   "outputs": [
    {
     "name": "stdout",
     "output_type": "stream",
     "text": [
      "City with the highest number of restaurants: New Delhi\n",
      "Average ratings for restaurants in each city:\n",
      "City\n",
      "??stanbul          4.292857\n",
      "Abu Dhabi          4.300000\n",
      "Agra               3.965000\n",
      "Ahmedabad          4.161905\n",
      "Albany             3.555000\n",
      "                     ...   \n",
      "Waterloo           3.650000\n",
      "Weirton            3.900000\n",
      "Wellington City    4.250000\n",
      "Winchester Bay     3.200000\n",
      "Yorkton            3.300000\n",
      "Name: Aggregate rating, Length: 141, dtype: float64\n",
      "City with the highest average rating: Inner City\n",
      "Highest average rating: 4.9\n"
     ]
    }
   ],
   "source": [
    "import pandas as pd\n",
    "import numpy as np\n",
    "import os\n",
    "\n",
    "os.chdir(\"C:\\\\Users\\\\Sarthak\\\\.jupyter\")\n",
    "data = pd.read_csv(\"File.csv\")\n",
    "\n",
    "# City with the highest number of restaurants\n",
    "city_with_highest_count = data['City'].value_counts().idxmax()\n",
    "print(\"City with the highest number of restaurants:\", city_with_highest_count)\n",
    "\n",
    "# Calculating the average rating for restaurants in each city\n",
    "average_ratings_by_city = data.groupby('City')['Aggregate rating'].mean()\n",
    "print(\"Average ratings for restaurants in each city:\")\n",
    "print(average_ratings_by_city)\n",
    "\n",
    "# City with the highest average rating\n",
    "city_with_highest_average_rating = average_ratings_by_city.idxmax()\n",
    "highest_average_rating = average_ratings_by_city.max()\n",
    "print(\"City with the highest average rating:\", city_with_highest_average_rating)\n",
    "print(\"Highest average rating:\", highest_average_rating)"
   ]
  },
  {
   "cell_type": "code",
   "execution_count": null,
   "id": "94f0316a-e658-4474-8006-10cb9a6b7cee",
   "metadata": {},
   "outputs": [],
   "source": []
  }
 ],
 "metadata": {
  "kernelspec": {
   "display_name": "Python 3 (ipykernel)",
   "language": "python",
   "name": "python3"
  },
  "language_info": {
   "codemirror_mode": {
    "name": "ipython",
    "version": 3
   },
   "file_extension": ".py",
   "mimetype": "text/x-python",
   "name": "python",
   "nbconvert_exporter": "python",
   "pygments_lexer": "ipython3",
   "version": "3.11.7"
  }
 },
 "nbformat": 4,
 "nbformat_minor": 5
}
