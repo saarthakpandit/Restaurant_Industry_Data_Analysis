{
 "cells": [
  {
   "cell_type": "code",
   "execution_count": 1,
   "id": "d0b32c81-05b4-4992-ac80-bf3e96747f19",
   "metadata": {},
   "outputs": [
    {
     "name": "stdout",
     "output_type": "stream",
     "text": [
      "Most Common Combinations of Cuisines:\n",
      "Cuisines\n",
      "North Indian                      936\n",
      "North Indian, Chinese             511\n",
      "Chinese                           354\n",
      "Fast Food                         354\n",
      "North Indian, Mughlai             334\n",
      "Cafe                              299\n",
      "Bakery                            218\n",
      "North Indian, Mughlai, Chinese    197\n",
      "Bakery, Desserts                  170\n",
      "Street Food                       149\n",
      "Name: count, dtype: int64\n",
      "\n",
      "Average Ratings for Each Cuisine Combination:\n",
      "Cuisine Combination: North Indian - Average Rating: 1.67\n",
      "Cuisine Combination: North Indian, Chinese - Average Rating: 2.42\n",
      "Cuisine Combination: Chinese - Average Rating: 2.04\n",
      "Cuisine Combination: Fast Food - Average Rating: 2.12\n",
      "Cuisine Combination: North Indian, Mughlai - Average Rating: 2.89\n",
      "Cuisine Combination: Cafe - Average Rating: 2.89\n",
      "Cuisine Combination: Bakery - Average Rating: 1.92\n",
      "Cuisine Combination: North Indian, Mughlai, Chinese - Average Rating: 2.57\n",
      "Cuisine Combination: Bakery, Desserts - Average Rating: 2.32\n",
      "Cuisine Combination: Street Food - Average Rating: 2.16\n"
     ]
    }
   ],
   "source": [
    "import pandas as pd\n",
    "import numpy as np\n",
    "import os\n",
    "\n",
    "os.chdir(\"C:\\\\Users\\\\Sarthak\\\\.jupyter\")\n",
    "data = pd.read_csv(\"File.csv\")\n",
    "\n",
    "\n",
    "# occurrences of each cuisine combination\n",
    "combination_counts = data['Cuisines'].value_counts()\n",
    "\n",
    "# Average ratings for each cuisine combination\n",
    "average_ratings = {}\n",
    "for combination in combination_counts.index:\n",
    "    ratings = data[data['Cuisines'] == combination]['Aggregate rating']\n",
    "    average_ratings[combination] = ratings.mean()\n",
    "\n",
    "# Most common combinations of cuisines\n",
    "most_common_combinations = combination_counts.head(10)  # Get top 10 most common combinations\n",
    "\n",
    "print(\"Most Common Combinations of Cuisines:\")\n",
    "print(most_common_combinations)\n",
    "\n",
    "print(\"\\nAverage Ratings for Each Cuisine Combination:\")\n",
    "for combination, count in most_common_combinations.items():\n",
    "    average_rating = average_ratings[combination]\n",
    "    print(f\"Cuisine Combination: {combination} - Average Rating: {average_rating:.2f}\")\n",
    "\n"
   ]
  },
  {
   "cell_type": "code",
   "execution_count": null,
   "id": "b66eab58-1070-4d6e-b00c-ecd3b8f63500",
   "metadata": {},
   "outputs": [],
   "source": []
  }
 ],
 "metadata": {
  "kernelspec": {
   "display_name": "Python 3 (ipykernel)",
   "language": "python",
   "name": "python3"
  },
  "language_info": {
   "codemirror_mode": {
    "name": "ipython",
    "version": 3
   },
   "file_extension": ".py",
   "mimetype": "text/x-python",
   "name": "python",
   "nbconvert_exporter": "python",
   "pygments_lexer": "ipython3",
   "version": "3.11.7"
  }
 },
 "nbformat": 4,
 "nbformat_minor": 5
}
